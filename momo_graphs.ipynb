{
 "cells": [
  {
   "cell_type": "code",
   "execution_count": null,
   "metadata": {},
   "outputs": [],
   "source": [
    "from extract.extract import getTLEsFromLaunches, getCredentials\n",
    "from datetime import datetime\n",
    "import seaborn as sns\n",
    "import matplotlib.pyplot as plt\n",
    "import numpy as np\n",
    "from scipy.stats import iqr\n",
    "import pandas as pd\n",
    "sns.set_theme()\n",
    "sns.color_palette(\"Spectral\", as_cmap=True)\n",
    "\n",
    "start = datetime(2022, 1, 1)\n",
    "end = datetime(2023, 1, 1)\n",
    "\n",
    "token = getCredentials(source=\"discos\")\n",
    "username, password = getCredentials(source=\"spacetrack\")\n",
    "\n",
    "launchIDs = [\"2013-066\", \"2018-092\", \"2019-084\", \"2022-002\"]\n",
    "#launchIDs = [\"2019-084\"]\n",
    "#launchIDs = [\"2013-066\"]\n",
    "\n",
    "# combining everything into one DF\n",
    "ignoreList = [44827, 44828, 44829, 44830, 44831, 44832] + [39435, 39436, 39437] + [43704, 44046]\n",
    "# combining everything into one DF\n",
    "discosDataDict, dfOriginal = getTLEsFromLaunches(\n",
    "    username,\n",
    "    password,\n",
    "    token,\n",
    "    launchIDs,\n",
    "    start,\n",
    "    end,\n",
    "    combineDiscosAndTLE=True,\n",
    "    collectLaunches=True,\n",
    "    collectAllTLEs=True,\n",
    "    forceRegen=False,\n",
    "    ignoreList=ignoreList\n",
    ")"
   ]
  },
  {
   "cell_type": "code",
   "execution_count": null,
   "metadata": {},
   "outputs": [],
   "source": [
    "print(dfOriginal.columns)\n",
    "print(len(dfOriginal))\n",
    "#df = dfOriginal.query(\"deltat< 10000\").query(\"overallCovariance < 15\")\n",
    "df = dfOriginal.query(\"deltat>1\").query(\"deltat< 150000\").query(\"overallCovariance < 5\").query(\"xSectAvg>0.00009999\").query(\"BSTAR>0\").query(\"BSTAR<0.007\")\n",
    "print(len(df))\n",
    "\n",
    "colsToDrop = [\n",
    "       'vimpelId', 'OBJECT_NAME', 'CENTER_NAME',\n",
    "       'MEAN_MOTION', 'RA_OF_ASC_NODE',\n",
    "       'ARG_OF_PERICENTER', 'MEAN_ANOMALY', 'ELEMENT_SET_NO',\n",
    "       'REV_AT_EPOCH', 'MEAN_MOTION_DOT', 'MEAN_MOTION_DDOT',\n",
    "       'SEMIMAJOR_AXIS', 'PERIOD', 'OBJECT_TYPE',\n",
    "       'RCS_SIZE', 'COUNTRY_CODE', 'LAUNCH_DATE', 'DECAY_DATE', 'TLE_LINE0',\n",
    "       'TLE_LINE1', 'TLE_LINE2', 'TLE_LINE1min1', 'TLE_LINE2min1']\n",
    "\n",
    "df = df.drop(colsToDrop, axis=1)\n",
    "print(df.columns)\n"
   ]
  },
  {
   "cell_type": "code",
   "execution_count": null,
   "metadata": {},
   "outputs": [],
   "source": []
  },
  {
   "cell_type": "code",
   "execution_count": null,
   "metadata": {},
   "outputs": [],
   "source": [
    "# corr = df.corr(numeric_only=True)\n",
    "# fig, ax = plt.subplots(1,1, figsize=(15,15))\n",
    "# sns.heatmap(corr, center=0, cmap=\"vlag\", ax=ax)"
   ]
  },
  {
   "cell_type": "code",
   "execution_count": null,
   "metadata": {},
   "outputs": [],
   "source": [
    "# sns.kdeplot(\n",
    "#    data=df, x=df.overallCovariance, hue=\"name\",\n",
    "#    fill=True, common_norm=False, palette=\"crest\",\n",
    "#    alpha=.5, linewidth=0, legend=None\n",
    "# )"
   ]
  },
  {
   "cell_type": "code",
   "execution_count": null,
   "metadata": {},
   "outputs": [],
   "source": [
    "# sns.scatterplot(x=df.EPOCH, y=df.overallCovariance, hue=df.name)\n",
    "# sns.rugplot(x=df.EPOCH, y=df.overallCovariance, height=.1, hue=df.name, legend=None)"
   ]
  },
  {
   "cell_type": "code",
   "execution_count": null,
   "metadata": {},
   "outputs": [],
   "source": [
    "# sns.scatterplot(x=df.deltat, y=df.overallCovariance, hue=df.name, legend=None)\n",
    "# sns.rugplot(x=df.deltat, y=df.overallCovariance, height=.1, hue=df.name, legend=None)"
   ]
  },
  {
   "cell_type": "code",
   "execution_count": null,
   "metadata": {},
   "outputs": [],
   "source": [
    "# plot = sns.displot(x=(df.deltat), y=df.overallCovariance, kind=\"kde\")\n"
   ]
  },
  {
   "cell_type": "code",
   "execution_count": null,
   "metadata": {},
   "outputs": [],
   "source": [
    "#plot = sns.boxenplot(y=df.name, x=(df.deltat))\n"
   ]
  },
  {
   "cell_type": "code",
   "execution_count": null,
   "metadata": {},
   "outputs": [],
   "source": [
    "# sns.boxenplot(\n",
    "#     x=df['shape'], y=df.overallCovariance,\n",
    "# )\n",
    "\n",
    "# print(df['shape'].unique())\n",
    "# df.query('shape==\"Box\"')['shape']\n",
    "# df.groupby(\"shape\").size()"
   ]
  },
  {
   "cell_type": "code",
   "execution_count": null,
   "metadata": {},
   "outputs": [],
   "source": [
    "#print(df.groupby(\"name\").mean()[\"deltat\"])\n",
    "\n",
    "\n",
    "# #sns.scatterplot(x=df.deltat, y=df.errorAlong, hue=df.name,legend=None)\n",
    "# #sns.scatterplot(x=df.deltat, y=df.errorCross, hue=df.name,legend=None)\n",
    "# sns.scatterplot(x=df.deltat, y=df.errorRadial, hue=df.name,legend=None)\n"
   ]
  },
  {
   "cell_type": "code",
   "execution_count": null,
   "metadata": {},
   "outputs": [],
   "source": [
    "#df.groupby(\"name\").min()[\"ECCENTRICITY\"]\n",
    "#print(df.groupby(\"name\").max()[\"mass\"])\n",
    "df = df.dropna(subset = ['width'])\n",
    "\n",
    "\n",
    "d = df[\"name\"].count()\n",
    "print(d)\n",
    "\n",
    "\n",
    "# max is 1.8368 and min 0.00625\n",
    "#print(df.groupby('shape').size())\n",
    "# a = df[df['shape']=='Hex Cyl + 3 Pan'].index.values\n",
    "# df.iloc[a]\n",
    "#width', 'xSectMax',\n",
    "#       'height', 'diameter'APOAPSIS\n",
    "# print(np.size(df.mass))\n",
    "# a = df.groupby(\"name\")query(\"mass< 5\")\n",
    "# print(a)\n",
    "#sns.scatterplot(x=df.mass, y=np.size(df.mass), hue=df.name ,legend=None)\n"
   ]
  },
  {
   "cell_type": "code",
   "execution_count": null,
   "metadata": {},
   "outputs": [],
   "source": [
    "# MASS \n",
    "# import time\n",
    "\n",
    "# df['datetime'] = pd.to_datetime(df['EPOCH'], unit='s')\n",
    "# df = df.sort_values(by='datetime')\n",
    "#dat = df.groupby('NORAD_CAT_ID').size().plot(kind = \"bar\") #bar of all the norad and how manyb points\n",
    "\n",
    "m = df.groupby(\"name\").max()[\"mass\"]\n",
    "#sns.barplot(x = m.index, y = m.values)\n",
    "\n",
    "\n",
    "pico = m[(m < 1.1)].count()\n",
    "nano = m[(m > 1) & (m < 11)].count()\n",
    "micro = m[(m > 10) & (m < 101)].count()\n",
    "mini = m[(m > 100) & (m < 500)].count()\n",
    "\n",
    "\n",
    "\n",
    "\n",
    "fig, ax = plt.subplots(1,1, figsize = (7,5))\n",
    "sns.barplot(x=[pico,nano,micro,mini], y=[\"Pico (0-1kg)\",\"Nano (1-10kg)\",\"Micro (10-100kg)\",\"Mini (100-300kg)\"]).set(title='Mass distribution of dataframe',xlabel =\"Number of Satellites\")\n",
    "fig.set_tight_layout(True)\n",
    "fig.savefig(\"data/mass_quantity.png\")\n",
    "\n",
    "\n",
    "picodf = df.query(\"mass < 1.01\")\n",
    "nanodf = df.query(\"mass > 1\").query(\"mass < 11\")\n",
    "microdf = df.query(\"mass > 10\").query(\"mass < 101\")\n",
    "minidf = df.query(\"mass > 100\").query(\"mass < 500\")\n",
    "\n",
    "\n",
    "#pico_df = m.query(\"mass < 2\")\n",
    "\n",
    "\n"
   ]
  },
  {
   "cell_type": "code",
   "execution_count": null,
   "metadata": {},
   "outputs": [],
   "source": [
    "# MASS \n",
    "#sns.barplot( x=[pico.count(),nano.count(),micro.count(),mini.count()], y=[\"Pico (0-1kg)\",\"Nano (1-10kg)\",\"Micro (10-100kg)\",\"Mini (100-300kg)\"],hue=None)\n",
    "\n",
    "picom = picodf[\"mass\"] #pico 0-1\n",
    "nanom = nanodf[\"mass\"] # nano 2-10\n",
    "microm = microdf[\"mass\"] #micro 10-100\n",
    "minim = minidf[\"mass\"] #mini 0-1\n",
    "\n",
    "\n",
    "fig, ax = plt.subplots(1,1, figsize = (7,5))\n",
    "plot = sns.barplot(x=[picom.count(),nanom.count(),microm.count(),minim.count()], y=[\"Pico (0-1kg)\",\"Nano (1-10kg)\",\"Micro (10-100kg)\",\"Mini (100-300kg)\"], ax = ax)\n",
    "fig.set_tight_layout(True)\n",
    "fig.savefig(\"data/mass_quantityoftles.png\")"
   ]
  },
  {
   "cell_type": "code",
   "execution_count": null,
   "metadata": {},
   "outputs": [],
   "source": [
    "# fig, ax = plt.subplots(4,1, figsize = (7,15))\n",
    "# sns.scatterplot(x=picodf.overallCovariance, y=picodf.ECCENTRICITY, ax= ax[0])\n",
    "# sns.scatterplot(x=nanodf.overallCovariance, y=nanodf.ECCENTRICITY, ax= ax[1])\n",
    "# sns.scatterplot(x=microdf.overallCovariance, y=microdf.ECCENTRICITY, ax= ax[2])\n",
    "# sns.scatterplot(x=minidf.overallCovariance, y=minidf.ECCENTRICITY, ax= ax[3])\n",
    "# fig.set_tight_layout(True)\n",
    "# fig.savefig(\"data/eccen_covariance.png\")"
   ]
  },
  {
   "cell_type": "code",
   "execution_count": null,
   "metadata": {},
   "outputs": [],
   "source": [
    "# fig, ax = plt.subplots(4,1, figsize = (7,15))\n",
    "# sns.scatterplot(x=picodf.overallCovariance, y=picodf.ECCENTRICITY, style=picodf.NORAD_CAT_ID, hue=picodf.EPOCH,palette='coolwarm', legend=None, ax=ax[0])\n",
    "# sns.scatterplot(x=nanodf.overallCovariance, y=nanodf.ECCENTRICITY, style=nanodf.NORAD_CAT_ID, hue=nanodf.EPOCH,palette='coolwarm', legend=None, ax= ax[1])\n",
    "# sns.scatterplot(x=microdf.overallCovariance, y=microdf.ECCENTRICITY, style=microdf.NORAD_CAT_ID, hue=microdf.EPOCH,palette='coolwarm', legend=None, ax=ax[2])\n",
    "# sns.scatterplot(x=minidf.overallCovariance, y=minidf.ECCENTRICITY, style=minidf.NORAD_CAT_ID, hue=minidf.EPOCH,palette='Blues', legend=None, ax= ax[3])\n",
    "# fig.set_tight_layout(True)\n",
    "# fig.savefig(\"data/eccen_covariance_wcolour.png\")\n",
    "\n",
    "\n",
    "\n"
   ]
  },
  {
   "cell_type": "code",
   "execution_count": null,
   "metadata": {},
   "outputs": [],
   "source": [
    "# MASS \n",
    "cap = (minidf.EPOCH)\n",
    "bob = ((minidf.actualX)**2 +(minidf.actualY)**2+(minidf.actualZ)**2)**(1/2)\n",
    "# df.drop(df.NORAD_CAT_ID == 51030)\n",
    "sns.lineplot(x=cap, y=bob, style=minidf.NORAD_CAT_ID, hue=minidf.NORAD_CAT_ID )\n"
   ]
  },
  {
   "cell_type": "code",
   "execution_count": null,
   "metadata": {},
   "outputs": [],
   "source": [
    "# VOLUME \n",
    "vol = df.height*df.depth*df.width\n",
    "df['Vol'] = vol\n",
    "\n",
    "Alt = np.sqrt((df.actualX)**2 +(df.actualY)**2+(df.actualZ)**2)\n",
    "df['Alt'] = Alt\n",
    "\n",
    "df['xSectAvg'].mean()\n"
   ]
  },
  {
   "cell_type": "code",
   "execution_count": null,
   "metadata": {},
   "outputs": [],
   "source": [
    "\n",
    "v = df.groupby(\"name\").max()[\"Vol\"]\n",
    "# print(v.count())\n",
    "\n",
    "# sns.scatterplot(x=df.overallCovariance, y=df.Vol, hue=df.NORAD_CAT_ID, palette='rainbow')\n",
    "\n",
    "pocket = v[(v < 0.0001250000001)].count()\n",
    "cube1 = v[(v > 0.0001251) & (v < 0.001000001)].count() #cube 2u and 6u\n",
    "cube2 = v[(v > 0.0011) & (v < 0.00200001)].count()\n",
    "cube3 = v[(v > 0.0021) & (v < 0.003000001)].count()\n",
    "cube6 = v[(v > 0.0031) & (v < 0.006000001)].count()\n",
    "cube12 = v[(v > 0.0061) & (v < 0.012000001)].count()\n",
    "cube16 = v[(v > 0.0121) & (v < 0.016000001)].count()\n",
    "cube27 = v[(v > 0.0161) & (v < 0.02700001)].count()\n",
    "nano1 = v[(v > 0.0271) & (v < 0.200001)].count()\n",
    "nano2 = v[(v > 0.21) & (v < 0.40001)].count()\n",
    "nano3 = v[(v > 0.41) & (v < 1.000001)].count()\n",
    "\n",
    "\n",
    "print(pocket,cube1,cube2,cube3,cube6,cube12,cube16,cube27,nano1,nano2,nano3)\n",
    "\n",
    "\n",
    "# sum = pocket+cube1+cube2+cube3+cube6+cube12+cube16+cube27+nano1+nano2+nano3\n",
    "# print(sum)\n",
    "\n",
    "fig, ax = plt.subplots(1,1,figsize = (7,5))\n",
    "sns.barplot(x=[pocket,cube1,cube2,cube3,cube6,cube12,cube16,cube27,nano1,nano2,nano3], y=[\"Pocketcube\",\"Cube 1U\",\"Cube 2U\",\"Cube 3U\",\"Cube 6U\",\"Cube 12U\",\"Cube 16U\",\"Cube 27U\",r\"$0.027m^3 - 0.2m^3$\",r\"$0.2m^3 - 0.4 m^3$\",r'$0.4m^3 - 1m^3$']).set(title='Volume distribution of data',xlabel =\"Number of Satellites\")\n",
    "fig.set_tight_layout(True)\n",
    "fig.savefig(\"data/sat_volume_quantity.png\")\n",
    "# 110037\n"
   ]
  },
  {
   "cell_type": "code",
   "execution_count": null,
   "metadata": {},
   "outputs": [],
   "source": [
    "# VOLUME \n",
    "\n",
    "# pocketdf = df.query(\"volume < 0.0001250000001\")\n",
    "# cube1df = df.query(\"volume > 0.0001251\").query(\"volume < 0.001000001\")\n",
    "# cube2df = df.query(\"volume > 0.0011\").query(\"volume <0.00200001\")\n",
    "# cube3df = df.query(\"volume > 0.0021\").query(\"volume <0.00300001\")\n",
    "# cube6df = df.query(\"volume > 0.0031\").query(\"volume <0.00600001\")\n",
    "# cube12df = df.query(\"volume > 0.0061\").query(\"volume <0.01200001\")\n",
    "# cube16df = df.query(\"volume > 0.0121\").query(\"volume <1\")\n",
    "\n",
    "\n",
    "smallvdf = df.query(\"volume < 0.00200001\")\n",
    "cube3df = df.query(\"volume > 0.0021\").query(\"volume <0.00300001\")\n",
    "bigvdf = df.query(\"volume > 0.0031\").query(\"volume <1\")\n",
    "\n",
    "\n",
    "\n",
    "\n",
    "\n"
   ]
  },
  {
   "cell_type": "code",
   "execution_count": null,
   "metadata": {},
   "outputs": [],
   "source": [
    "# VOLUME \n",
    "fig, ax = plt.subplots(1,3,sharey=True,figsize = (14,5))\n",
    "fig.suptitle('Eccentricity vs Covariance')\n",
    "ax[0].set_title(r'$V = 0-0.003m^3$')\n",
    "sns.scatterplot(x=smallvdf.overallCovariance, y=smallvdf.ECCENTRICITY, hue=smallvdf.NORAD_CAT_ID, palette='Spectral',legend=None, ax= ax[0])\n",
    "ax[1].set_title(r'$V = 0.003-0.004m^3$')\n",
    "sns.scatterplot(x=cube3df.overallCovariance, y=cube3df.ECCENTRICITY, hue=cube3df.NORAD_CAT_ID, palette='Spectral', legend=None,ax= ax[1])\n",
    "ax[2].set_title(r'$V = 0.004-1m^3$')\n",
    "sns.scatterplot(x=bigvdf.overallCovariance, y=bigvdf.ECCENTRICITY, hue=bigvdf.NORAD_CAT_ID,palette='Spectral', legend=None,ax= ax[2])\n",
    "ax[0].set(xlabel='Overall Covariance [km]', ylabel='Eccentricity [-]')\n",
    "ax[1].set(xlabel='Overall Covariance [km]', ylabel='Eccentricity [-]')\n",
    "ax[2].set(xlabel='Overall Covariance [km]', ylabel='Eccentricity [-]')\n",
    "\n",
    "fig.savefig(\"data/eccen_covariance_vol.png\")\n",
    "\n",
    "\n"
   ]
  },
  {
   "cell_type": "code",
   "execution_count": null,
   "metadata": {},
   "outputs": [],
   "source": [
    "# # VOLUME \n",
    "# fig, ax = plt.subplots(3,1,sharex=True,figsize = (5,7))\n",
    "# sns.lineplot(x=smallvdf.EPOCH, y=(((smallvdf.actualX)**2 +(smallvdf.actualY)**2+(smallvdf.actualZ)**2)**(1/2)), style=smallvdf.NORAD_CAT_ID, hue=smallvdf.NORAD_CAT_ID, legend=None, ax= ax[0])\n",
    "# sns.lineplot(x=cube3df.EPOCH, y=(((cube3df.actualX)**2 +(cube3df.actualY)**2+(cube3df.actualZ)**2)**(1/2)), style=cube3df.NORAD_CAT_ID, hue=cube3df.NORAD_CAT_ID, legend=None, ax= ax[1])\n",
    "# sns.lineplot(x=bigvdf.EPOCH, y=(((bigvdf.actualX)**2 +(bigvdf.actualY)**2+(bigvdf.actualZ)**2)**(1/2)), style=bigvdf.NORAD_CAT_ID, hue=bigvdf.NORAD_CAT_ID, legend=None, ax= ax[2])\n",
    "# fig.set_tight_layout(True)\n",
    "# fig.savefig(\"data/Altitude_epoch_volume.png\")"
   ]
  },
  {
   "cell_type": "code",
   "execution_count": null,
   "metadata": {},
   "outputs": [],
   "source": [
    "# SURFACE AREA \n",
    "\n",
    "\n",
    "A = df.groupby(\"name\").max()[\"xSectAvg\"]\n",
    "print(A.count())\n",
    "\n",
    "\n",
    "\n",
    "\n",
    "\n",
    "# sns.scatterplot(x=df.overallCovariance, y=df.xSectAvg, hue=df.NORAD_CAT_ID, palette='Spectral')\n",
    "\n",
    "surface1 = A[(A < 0.1)].count()\n",
    "surface2 = A[(A > 0.1000001) & (A < 0.5)].count()\n",
    "surface3 = A[(A > 0.5000001) & (A < 2.0)].count()\n",
    "\n",
    "\n",
    "print(surface1,surface2,surface3)\n",
    "\n",
    "\n",
    "sums = surface1+surface2+surface3\n",
    "print(sums)\n",
    "\n",
    "subssurface1 = A[(A < 0.015)].count()\n",
    "subssurface2 = A[(A > 0.014) & (A < 0.075)].count()\n",
    "subssurface3 = A[(A > 0.074) & (A < 0.1)].count()\n",
    "print(subssurface1,subssurface2,subssurface3)\n",
    "\n",
    "\n",
    "sumss = subssurface1+subssurface2+subssurface3\n",
    "print(sumss)\n",
    "\n",
    "fig, ax = plt.subplots(1,1,figsize = (7,5))\n",
    "sns.barplot(x=[subssurface1, subssurface2, subssurface3,surface2,surface3], y=[r\"$0-0.015m^2$\",r\"$0.015-0.075m^2$\",r\"$0.075-0.1m^2$\",r\"$0.1-0.5m^2$\",r\"$0.5-2.0m^2$\"]).set(title='Average surface area distribution of data',xlabel =\"Number of Satellites\",ylabel = r\"Surface Area $[m^2]$\")\n",
    "fig.set_tight_layout(True)\n",
    "fig.savefig(\"data/sat_xsectav_quantity.png\")\n"
   ]
  },
  {
   "cell_type": "code",
   "execution_count": null,
   "metadata": {},
   "outputs": [],
   "source": [
    "# SURFACE AREA \n",
    "\n",
    "\n",
    "surface1df = df.query(\"xSectAvg < 0.099999\")\n",
    "surface2df = df.query(\"xSectAvg > 0.1000001\").query(\"xSectAvg < 0.5\")\n",
    "surface3df = df.query(\"xSectAvg > 0.5000001\").query(\"xSectAvg < 2.8\")\n",
    "\n"
   ]
  },
  {
   "cell_type": "code",
   "execution_count": null,
   "metadata": {},
   "outputs": [],
   "source": [
    "\n",
    "\n",
    "fig, ax = plt.subplots(1,3,sharey=True,figsize = (13,4))\n",
    "fig.suptitle('Eccentricity vs Covariance')\n",
    "ax[0].set_title(r'Surface area = 0-0.1$m^2$')\n",
    "sns.scatterplot(x=surface1df.overallCovariance, y=surface1df.ECCENTRICITY, hue=surface1df.NORAD_CAT_ID, style =surface1df.NORAD_CAT_ID, palette='Spectral',legend=None, ax= ax[0])\n",
    "ax[1].set_title(r'Surface area = 0.1-0.5$m^2$')\n",
    "sns.scatterplot(x=surface2df.overallCovariance, y=surface2df.ECCENTRICITY, hue=surface2df.NORAD_CAT_ID, style =surface2df.NORAD_CAT_ID, palette='Spectral', legend=None,ax= ax[1])\n",
    "ax[2].set_title(r'Surface area = 0.5-2.7$m^2$')\n",
    "sns.scatterplot(x=surface3df.overallCovariance, y=surface3df.ECCENTRICITY, hue=surface3df.NORAD_CAT_ID,style =surface3df.NORAD_CAT_ID,palette='Spectral', legend=None,ax= ax[2])\n",
    "ax[0].set(xlabel='Overall Covariance [km]', ylabel='Eccentricity [-]')\n",
    "ax[1].set(xlabel='Overall Covariance [km]', ylabel='Eccentricity [-]')\n",
    "ax[2].set(xlabel='Overall Covariance [km]', ylabel='Eccentricity [-]')\n",
    "fig.savefig(\"data/eccen_covariance_surfaceav.png\")\n"
   ]
  },
  {
   "cell_type": "code",
   "execution_count": null,
   "metadata": {},
   "outputs": [],
   "source": [
    "\n",
    "subsurface1df = surface1df.query(\"xSectAvg < 0.015\")\n",
    "subsurface2df = surface1df.query(\"xSectAvg > 0.014\").query(\"xSectAvg < 0.075\")\n",
    "subsurface3df = surface1df.query(\"xSectAvg > 0.074\").query(\"xSectAvg < 0.1\")\n",
    "\n",
    "# fig, ax = plt.subplots(1,3,sharey=True,figsize = (13,4))\n",
    "# fig.suptitle('Eccentricity vs Covariance')\n",
    "# ax[0].set_title(r'Surface area = 0-0.015$m^2$')\n",
    "# sns.scatterplot(x=subsurface1df.overallCovariance, y=subsurface1df.ECCENTRICITY, hue=subsurface1df.NORAD_CAT_ID, style =subsurface1df.NORAD_CAT_ID, palette='Spectral',legend=None, ax= ax[0])\n",
    "# ax[1].set_title(r'Surface area = 0.015-0.075$m^2$')\n",
    "# sns.scatterplot(x=subsurface2df.overallCovariance, y=subsurface2df.ECCENTRICITY, hue=subsurface2df.NORAD_CAT_ID, style =subsurface2df.NORAD_CAT_ID, palette='Spectral', legend=None,ax= ax[1])\n",
    "# ax[2].set_title(r'Surface area = 0.075-0.1$m^2$')\n",
    "# sns.scatterplot(x=subsurface3df.overallCovariance, y=subsurface3df.ECCENTRICITY, hue=subsurface3df.NORAD_CAT_ID,style =subsurface3df.NORAD_CAT_ID,palette='Spectral', legend=None,ax= ax[2])\n",
    "# ax[0].set(xlabel='Overall Covariance [km]', ylabel='Eccentricity [-]')\n",
    "# ax[1].set(xlabel='Overall Covariance [km]', ylabel='Eccentricity [-]')\n",
    "# ax[2].set(xlabel='Overall Covariance [km]', ylabel='Eccentricity [-]')\n",
    "# fig.savefig(\"data/eccen_covariance_surfaceav_butsub0.1m2.png\")\n",
    "\n"
   ]
  },
  {
   "cell_type": "code",
   "execution_count": null,
   "metadata": {},
   "outputs": [],
   "source": [
    "# SURFACE \n",
    "# fig, ax = plt.subplots(3,1,sharex=True,figsize = (5,7))\n",
    "# sns.lineplot(x=surface1df.EPOCH, y=(((surface1df.actualX)**2 +(surface1df.actualY)**2+(surface1df.actualZ)**2)**(1/2)), style=surface1df.NORAD_CAT_ID, hue=surface1df.NORAD_CAT_ID, legend=None, ax= ax[0])\n",
    "# sns.lineplot(x=surface2df.EPOCH, y=(((surface2df.actualX)**2 +(surface2df.actualY)**2+(surface2df.actualZ)**2)**(1/2)), style=surface2df.NORAD_CAT_ID, hue=surface2df.NORAD_CAT_ID, legend=None, ax= ax[1])\n",
    "# sns.lineplot(x=surface3df.EPOCH, y=(((surface3df.actualX)**2 +(surface3df.actualY)**2+(surface3df.actualZ)**2)**(1/2)), style=surface3df.NORAD_CAT_ID, hue=surface3df.NORAD_CAT_ID, legend=None, ax= ax[2])\n",
    "# fig.set_tight_layout(True)\n",
    "# # fig.savefig(\"data/Altitude_epoch_surface.png\")\n",
    "\n",
    "# fig, ax = plt.subplots(3,1,sharex=True,figsize = (5,7))\n",
    "# sns.lineplot(x=subsurface1df.EPOCH, y=(((subsurface1df.actualX)**2 +(subsurface1df.actualY)**2+(subsurface1df.actualZ)**2)**(1/2)), style=subsurface1df.NORAD_CAT_ID, hue=subsurface1df.NORAD_CAT_ID, legend=None, ax= ax[0])\n",
    "# sns.lineplot(x=subsurface2df.EPOCH, y=(((subsurface2df.actualX)**2 +(subsurface2df.actualY)**2+(subsurface2df.actualZ)**2)**(1/2)), style=subsurface2df.NORAD_CAT_ID, hue=subsurface2df.NORAD_CAT_ID, legend=None, ax= ax[1])\n",
    "# sns.lineplot(x=subsurface3df.EPOCH, y=(((subsurface3df.actualX)**2 +(subsurface3df.actualY)**2+(subsurface3df.actualZ)**2)**(1/2)), style=subsurface3df.NORAD_CAT_ID, hue=subsurface3df.NORAD_CAT_ID, legend=None, ax= ax[2])\n",
    "# fig.set_tight_layout(True)\n",
    "# fig.savefig(\"data/Altitude_epoch_subsurface.png\")"
   ]
  },
  {
   "cell_type": "code",
   "execution_count": null,
   "metadata": {},
   "outputs": [],
   "source": []
  },
  {
   "cell_type": "code",
   "execution_count": null,
   "metadata": {},
   "outputs": [],
   "source": [
    "fig, ax = plt.subplots(1,1,sharex=True,figsize = (7,5))\n",
    "fig.suptitle('Altitude vs Atmospheric Drag Term')\n",
    "sns.scatterplot(x=df.BSTAR, y=(((df.actualX)**2 +(df.actualY)**2+(df.actualZ)**2)**(1/2)), hue=df.NORAD_CAT_ID, legend=None, ax=ax)\n",
    "ax.set(xlabel=r'Atmospheric Drag Term [$1/r_e$]', ylabel='Altitude [m]')\n",
    "fig.savefig(\"data/BSTAR_Alt_all.png\")  "
   ]
  },
  {
   "cell_type": "code",
   "execution_count": null,
   "metadata": {},
   "outputs": [],
   "source": [
    "sns.lineplot(x=df.EPOCH, y=(((df.actualX)**2 +(df.actualY)**2+(df.actualZ)**2)**(1/2)), style=df.NORAD_CAT_ID, hue=df.NORAD_CAT_ID, legend=None)"
   ]
  },
  {
   "cell_type": "code",
   "execution_count": null,
   "metadata": {},
   "outputs": [],
   "source": [
    "#NORAD ALTITUDE\n",
    "Alt = np.sqrt((df.actualX)**2 +(df.actualY)**2+(df.actualZ)**2)\n",
    "df['Alt'] = Alt\n",
    "\n",
    "H = df.groupby(\"name\").max()[\"NORAD_CAT_ID\"]\n",
    "print(H.count())\n",
    "\n",
    "\n",
    "\n",
    "\n",
    "\n",
    "# sns.scatterplot(x=df.overallCovariance, y=df.xSectAvg, hue=df.NORAD_CAT_ID, palette='Spectral')\n",
    "\n",
    "Alt1 = H[(H < 40000)].count()\n",
    "Alt2 = H[(H > 40000) & (H < 46000)].count()\n",
    "Alt3 = H[(H > 46000) & (H < 52000)].count()\n",
    "\n",
    "\n",
    "print(Alt1,Alt2,Alt3)\n",
    "\n",
    "\n",
    "suma = Alt1+Alt2+Alt3\n",
    "print(suma)\n",
    "\n",
    "\n",
    "fig, ax = plt.subplots(1,1,figsize = (7,5))\n",
    "sns.barplot(x=[Alt1, Alt2, Alt3], y=[\"<40000\",\"40000-46000\",\"46000-52000\"]).set(title='Average norad distribution of data',xlabel =\"Number of Satellites\",ylabel = r\"Altitude $[m]$\")\n",
    "fig.set_tight_layout(True)\n",
    "fig.savefig(\"data/sat_Norad_quantity.png\")\n",
    "\n",
    "alt1df = df.query(\"NORAD_CAT_ID < 40000\")\n",
    "alt2df = df.query(\"NORAD_CAT_ID > 40000\").query(\"NORAD_CAT_ID < 46000\")\n",
    "alt3df = df.query(\"NORAD_CAT_ID > 46000\").query(\"NORAD_CAT_ID < 52000\")\n",
    "\n"
   ]
  },
  {
   "cell_type": "code",
   "execution_count": null,
   "metadata": {},
   "outputs": [],
   "source": [
    "fig, ax = plt.subplots(1,3,sharey=True,figsize = (13,4))\n",
    "fig.suptitle('Altitude vs Atmospheric Drag Term')\n",
    "ax[0].set_title(r'Surface area = 0-0.1$m^2$')\n",
    "sns.scatterplot(x=surface1df.BSTAR, y=surface1df.Alt, hue=surface1df.NORAD_CAT_ID, style =surface1df.NORAD_CAT_ID, palette='Spectral',legend=None, ax= ax[0])\n",
    "ax[1].set_title(r'Surface area = 0.1-0.5$m^2$')\n",
    "sns.scatterplot(x=surface2df.BSTAR, y=surface2df.Alt, hue=surface2df.NORAD_CAT_ID, style =surface2df.NORAD_CAT_ID, palette='Spectral', legend=None,ax= ax[1])\n",
    "ax[2].set_title(r'Surface area = 0.5-2.7$m^2$')\n",
    "sns.scatterplot(x=surface3df.BSTAR, y=surface3df.Alt, hue=surface3df.NORAD_CAT_ID,style =surface3df.NORAD_CAT_ID,palette='Spectral', legend=None,ax= ax[2])\n",
    "ax[0].set(xlabel='BSTAR', ylabel='alti')\n",
    "ax[1].set(xlabel='BSTAR', ylabel='alt [-]')\n",
    "ax[2].set(xlabel='BSTAR', ylabel='alt [-]')\n",
    "fig.savefig(\"data/BSTAR_covariance_surfaceav.png\")"
   ]
  },
  {
   "cell_type": "code",
   "execution_count": null,
   "metadata": {},
   "outputs": [],
   "source": [
    "alt3df.loc[df['NORAD_CAT_ID']==51080].Alt"
   ]
  },
  {
   "cell_type": "code",
   "execution_count": null,
   "metadata": {},
   "outputs": [],
   "source": [
    "fig, ax = plt.subplots(1,3,figsize = (15,5))\n",
    "fig.suptitle('Altitude vs Time')\n",
    "ax[0].set_title('norad 30000-40000')\n",
    "sns.lineplot(x=alt1df.EPOCH, y=alt1df.Alt, hue=alt1df.NORAD_CAT_ID, style =alt1df.NORAD_CAT_ID, palette='Spectral',legend=None, ax= ax[2])\n",
    "ax[1].set_title('norad 40000-46000')\n",
    "sns.lineplot(x=alt2df.EPOCH, y=alt2df.Alt, hue=alt2df.NORAD_CAT_ID, style =alt2df.NORAD_CAT_ID, palette='Spectral',legend=None,ax= ax[0])\n",
    "ax[2].set_title('norad 46000 - 52000')\n",
    "sns.lineplot(x=alt3df.EPOCH, y=alt3df.Alt, hue=alt3df.NORAD_CAT_ID,style =alt3df.NORAD_CAT_ID,palette='Spectral',legend=None,ax= ax[1])\n",
    "ax[0].set(xlabel='epoch [-]', ylabel='alt [m]')\n",
    "ax[0].set_xticklabels(ax[0].get_xticklabels(), rotation=40, ha=\"right\")\n",
    "ax[1].set(xlabel='epoch [-]', ylabel='alt [m]')\n",
    "ax[1].set_xticklabels(ax[1].get_xticklabels(), rotation=40, ha=\"right\")\n",
    "ax[2].set(xlabel='epoch [-]', ylabel='alt [m]')\n",
    "ax[2].set_xticklabels(ax[2].get_xticklabels(), rotation=40, ha=\"right\")\n",
    "fig.savefig(\"data/alt_time_norad.png\")"
   ]
  },
  {
   "cell_type": "code",
   "execution_count": null,
   "metadata": {},
   "outputs": [],
   "source": [
    "fig, ax = plt.subplots(1,3,figsize = (15,5))\n",
    "fig.suptitle('Altitude vs Time')\n",
    "ax[0].set_title('norad 30000-40000')\n",
    "sns.scatterplot(x=alt1df.NORAD_CAT_ID, y=alt1df.deltat, style =alt1df.NORAD_CAT_ID, palette='Spectral', ax= ax[2])\n",
    "ax[1].set_title('norad 40000-46000')\n",
    "sns.scatterplot(x=alt2df.NORAD_CAT_ID, y=alt2df.deltat, style =alt2df.NORAD_CAT_ID, palette='Spectral',ax= ax[0])\n",
    "ax[2].set_title('norad 46000 - 52000')\n",
    "sns.scatterplot(x=alt3df.NORAD_CAT_ID, y=alt3df.deltat, style =alt3df.NORAD_CAT_ID,palette='Spectral',ax= ax[1])\n",
    "ax[0].set(xlabel='epoch [-]', ylabel='alt [m]')\n",
    "ax[0].set_xticklabels(ax[0].get_xticklabels(), rotation=40, ha=\"right\")\n",
    "ax[1].set(xlabel='epoch [-]', ylabel='alt [m]')\n",
    "ax[1].set_xticklabels(ax[1].get_xticklabels(), rotation=40, ha=\"right\")\n",
    "ax[2].set(xlabel='epoch [-]', ylabel='alt [m]')\n",
    "ax[2].set_xticklabels(ax[2].get_xticklabels(), rotation=40, ha=\"right\")\n",
    "fig.savefig(\"data/alt_deltat_norad.png\")"
   ]
  },
  {
   "cell_type": "code",
   "execution_count": null,
   "metadata": {},
   "outputs": [],
   "source": [
    "# fig, ax = plt.subplots(1,3,figsize = (13,5))\n",
    "# fig.suptitle('Altitude vs Time')\n",
    "# ax[0].set_title('norad 30000-40000')\n",
    "# sns.scatterplot(x=alt1df.BSTAR, y=alt1df.Alt, hue=alt1df.xSectAvg, style =alt1df.NORAD_CAT_ID, palette='Spectral',legend=None, ax= ax[2])\n",
    "# ax[1].set_title('norad 40000-46000')\n",
    "# sns.scatterplot(x=alt2df.BSTAR, y=alt2df.Alt, hue=alt2df.xSectAvg, style =alt2df.NORAD_CAT_ID, palette='Spectral',legend=None,ax= ax[0])\n",
    "# ax[2].set_title('norad 46000 - 52000')\n",
    "# sns.scatterplot(x=alt3df.BSTAR, y=alt3df.Alt, hue=alt3df.xSectAvg,style =alt3df.NORAD_CAT_ID,palette='Spectral',legend=None,ax= ax[1])\n",
    "# ax[0].set(xlabel=r'Atmospheric Drag Term [$1/r_e$]', ylabel='alt [m]')\n",
    "# ax[1].set(xlabel=r'Atmospheric Drag Term [$1/r_e$]', ylabel='alt [m]')\n",
    "# ax[2].set(xlabel=r'Atmospheric Drag Term [$1/r_e$]', ylabel='alt [m]')\n",
    "# fig.savefig(\"data/Bstar_alt_norad.png\")"
   ]
  },
  {
   "cell_type": "code",
   "execution_count": null,
   "metadata": {},
   "outputs": [],
   "source": [
    "fig, ax = plt.subplots(1,2, figsize = (15,5))\n",
    "sns.barplot(x=[surface1,surface2,surface3], y=[\"0-0.1\",\"0.1-0.5\",\"0.5-2.0\"],ax = ax[0]).set(title='(a) Average cross sectional area distribution',xlabel =\"Number of Satellites\",ylabel = r\"Average Cross sectional Area $[m^2]$\")\n",
    "sns.barplot(x=[(pocket+cube1+cube2),cube3,(cube6+cube12+cube16+cube27+nano1+nano2+nano3)], y=[\"Pocketcube to 2U\",\"Cube 3U\",r\"6U-1$m^3$\"], ax = ax[1]).set(title='(b) Volume distribution of data',xlabel =\"Number of Satellites\")\n",
    "fig.set_tight_layout(True)\n",
    "fig.savefig(\"data/mass_surface_volume_2quantity.png\")"
   ]
  },
  {
   "cell_type": "code",
   "execution_count": null,
   "metadata": {},
   "outputs": [],
   "source": [
    "# sns.scatterplot(x=smallvdf.overallCovariance, y=smallvdf.deltat,hue = smallvdf.NORAD_CAT_ID,palette='Spectral')\n",
    "# plt.legend(bbox_to_anchor=(1.05, 1), loc='upper left', borderaxespad=0)\n",
    "\n",
    "fig, ax = plt.subplots(1,3,figsize = (15,5))\n",
    "fig.suptitle('Delta t  vs Overall Covariance ')\n",
    "ax[0].set_title(r'Volume <0.002 $m^3$')\n",
    "sns.scatterplot(x=smallvdf.overallCovariance, y=smallvdf.deltat, hue =smallvdf.NORAD_CAT_ID, palette='Spectral',legend=None, ax= ax[0])\n",
    "ax[1].set_title(r'Volume 0.002-0.003 $m^3$')\n",
    "sns.scatterplot(x=cube3df.overallCovariance, y=cube3df.deltat, hue =cube3df.NORAD_CAT_ID, palette='Spectral',legend=None,ax= ax[1])\n",
    "ax[2].set_title(r'Volume 0.003-1 $m^3$')\n",
    "sns.scatterplot(x=bigvdf.overallCovariance, y=bigvdf.deltat, hue =bigvdf.NORAD_CAT_ID,palette='Spectral',legend=None,ax= ax[2])\n",
    "ax[0].set(xlabel='overall convarience [km]', ylabel='Deltat [sec]')\n",
    "ax[1].set(xlabel='overall convarience [km]', ylabel='Deltat [sec]')\n",
    "ax[2].set(xlabel='overall convarience [km]', ylabel='Deltat [sec]')\n",
    "fig.savefig(\"data/con_deltat_noradbutsurface.png\")\n",
    "\n",
    "# B = df.groupby(\"name\").min()[\"deltat\"]\n",
    "# print(B)\n",
    "\n",
    "\n",
    "\n"
   ]
  },
  {
   "cell_type": "code",
   "execution_count": null,
   "metadata": {},
   "outputs": [],
   "source": [
    "z = surface1df.groupby(\"name\").mean()[\"deltat\"]\n",
    "i = surface1df.groupby(\"name\").max()[\"overallCovariance\"]\n",
    "\n",
    "sns.scatterplot(x=z, y =i)\n",
    "# A = df.groupby(\"deltat\").mean()[\"deltat\"]\n",
    "\n"
   ]
  },
  {
   "cell_type": "code",
   "execution_count": null,
   "metadata": {},
   "outputs": [],
   "source": [
    "# sns.lineplot(x=alt3df.loc[df['NORAD_CAT_ID']==51082].EPOCH, y=alt3df.loc[df['NORAD_CAT_ID']==51082].Alt, palette='Spectral')\n",
    "#sns.lineplot(x=alt3df.loc[df['NORAD_CAT_ID']==51083].EPOCH, y=alt3df.loc[df['NORAD_CAT_ID']==51083].Alt, palette='Spectral')\n",
    "# sns.lineplot(x=alt3df.loc[df['NORAD_CAT_ID']==51085].EPOCH, y=alt3df.loc[df['NORAD_CAT_ID']==51085].Alt, palette='Spectral')\n",
    "#sns.lineplot(x=alt3df.loc[df['NORAD_CAT_ID']==51086].EPOCH, y=alt3df.loc[df['NORAD_CAT_ID']==51086].Alt, palette='Spectral')\n",
    "# sns.lineplot(x=alt3df.loc[df['NORAD_CAT_ID']==51087].EPOCH, y=alt3df.loc[df['NORAD_CAT_ID']==51087].Alt, palette='Spectral')\n",
    "# sns.lineplot(x=alt3df.loc[df['NORAD_CAT_ID']==51088].EPOCH, y=alt3df.loc[df['NORAD_CAT_ID']==51088].Alt, palette='Spectral')\n",
    "sns.lineplot(x=alt2df.loc[df['NORAD_CAT_ID']==44041].EPOCH.iloc[0:100], y=alt2df.loc[df['NORAD_CAT_ID']==44041].Alt.iloc[0:100], palette='Spectral')\n",
    "\n",
    "\n",
    "\n",
    "\n"
   ]
  },
  {
   "cell_type": "code",
   "execution_count": null,
   "metadata": {},
   "outputs": [],
   "source": [
    "sns.scatterplot(x=alt2df.loc[df['NORAD_CAT_ID']==44041].EPOCH, y=alt2df.loc[df['NORAD_CAT_ID']==44041].deltat, palette='Spectral')\n"
   ]
  },
  {
   "cell_type": "code",
   "execution_count": null,
   "metadata": {},
   "outputs": [],
   "source": [
    "fig, ax = plt.subplots(1,3,figsize = (15,5))\n",
    "fig.suptitle(' Altitude  vs Overall Covariance ')\n",
    "ax[0].set_title(r'Volume <0.002 $m^2$')\n",
    "sns.scatterplot(x=smallvdf.errorAlong, y=smallvdf.BSTAR, hue =smallvdf.NORAD_CAT_ID, palette='Spectral',legend=None, ax= ax[2])\n",
    "ax[1].set_title(r'Volume 0.002-0.003 $m^2$')\n",
    "sns.scatterplot(x=cube3df.errorAlong, y=cube3df.BSTAR, hue =cube3df.NORAD_CAT_ID, palette='Spectral',legend=None,ax= ax[0])\n",
    "ax[2].set_title(r'Volume 0.003-1 $m^2$')\n",
    "sns.scatterplot(x=bigvdf.errorAlong, y=bigvdf.BSTAR, hue =bigvdf.NORAD_CAT_ID,palette='Spectral',legend=None,ax= ax[1])\n",
    "ax[0].set(xlabel='Cross track error [km]', ylabel='Drag coeffcient [1/re]')\n",
    "ax[1].set(xlabel='Cross track error [km]', ylabel='Drag coeffcient [1/re]')\n",
    "ax[2].set(xlabel='Cross track error [km]', ylabel='Drag coeffcient [1/re]')\n",
    "fig.savefig(\"data/dragcross_norad.png\")"
   ]
  },
  {
   "cell_type": "code",
   "execution_count": null,
   "metadata": {},
   "outputs": [],
   "source": [
    "fig, ax = plt.subplots(1,3,figsize = (15,5))\n",
    "fig.suptitle('Atmospheric Drag Factor against In track error ')\n",
    "ax[0].set_title(r'Average cross sectional area <0.1 $m^2$')\n",
    "sns.scatterplot(x=surface1df.errorAlong, y=surface1df.BSTAR, hue =surface1df.NORAD_CAT_ID, palette='Spectral',legend=None, ax= ax[0])\n",
    "ax[1].set_title(r'Average cross sectional area 0.1-0.5 $m^2$')\n",
    "sns.scatterplot(x=surface2df.errorAlong, y=surface2df.BSTAR, hue =surface2df.NORAD_CAT_ID, palette='Spectral',legend=None,ax= ax[1])\n",
    "ax[2].set_title(r'Average cross sectional area 0.5-2.8 $m^2$')\n",
    "sns.scatterplot(x=surface3df.errorAlong, y=surface3df.BSTAR, hue =surface3df.NORAD_CAT_ID,palette='Spectral',legend=None,ax= ax[2])\n",
    "ax[0].set(xlabel='In track error [km]', ylabel=r'Atmospheric Drag Factor [$1/r_e$]')\n",
    "ax[1].set(xlabel='In track error [km]', ylabel=r'Atmospheric Drag Factor [$1/r_e$]')\n",
    "ax[2].set(xlabel='In track error [km]', ylabel=r'Atmospheric Drag Factor [$1/r_e$]')\n",
    "fig.savefig(\"data/crosssurface.png\")"
   ]
  },
  {
   "cell_type": "code",
   "execution_count": null,
   "metadata": {},
   "outputs": [],
   "source": [
    "sns.scatterplot(x=df.errorAlong, y=df.Alt, hue =df.NORAD_CAT_ID,palette='Spectral',legend=None)\n"
   ]
  },
  {
   "cell_type": "code",
   "execution_count": null,
   "metadata": {},
   "outputs": [],
   "source": [
    "fig, ax = plt.subplots(1,3,figsize = (15,5))\n",
    "fig.suptitle('Altitude against In track error')\n",
    "ax[0].set_title(r'Surface area <0.1 $m^2$')\n",
    "sns.scatterplot(x=surface1df.errorAlong, y=surface1df.Alt, hue =surface1df.NORAD_CAT_ID, palette='Spectral',legend=None, ax= ax[2])\n",
    "ax[1].set_title(r'Surface area 0.1-0.5 $m^2$')\n",
    "sns.scatterplot(x=surface2df.errorAlong, y=surface2df.Alt, hue =surface2df.NORAD_CAT_ID, palette='Spectral',legend=None,ax= ax[0])\n",
    "ax[2].set_title(r'Surface area 0.5-2.8 $m^2$')\n",
    "sns.scatterplot(x=surface3df.errorAlong, y=surface3df.Alt, hue =surface3df.NORAD_CAT_ID,palette='Spectral',legend=None,ax= ax[1])\n",
    "ax[0].set(xlabel='In track error [km]', ylabel=r'Altitude [m]')\n",
    "ax[1].set(xlabel='In track error [km]', ylabel=r'Altitude [m]')\n",
    "ax[2].set(xlabel='In track error [km]', ylabel=r'Altitude [m]')\n",
    "fig.savefig(\"data/altsurfaceintrack.png\")"
   ]
  },
  {
   "cell_type": "markdown",
   "metadata": {},
   "source": [
    "fig, ax = plt.subplots(1,3,figsize = (15,5))\n",
    "fig.suptitle('Atmospheric Drag Factor against In track error ')\n",
    "ax[0].set_title(r'Surface area <0.1 $m^2$')\n",
    "sns.scatterplot(x=df.ECCENTRICITY, y=df.errorAlong, hue =df.name, palette='Spectral',legend=None, ax= ax[0])\n",
    "ax[1].set_title(r'Surface area 0.1-0.5 $m^2$')\n",
    "sns.scatterplot(x=df.ECCENTRICITY, y=df.errorCross, hue =df.name, palette='Spectral',legend=None,ax= ax[1])\n",
    "ax[2].set_title(r'Surface area 0.5-2.8 $m^2$')\n",
    "sns.scatterplot(x=df.ECCENTRICITY, y=df.errorRadial, hue =df.name,palette='Spectral',legend=None,ax= ax[2])\n",
    "ax[0].set(xlabel='Eccentricity', ylabel=r'Along track error [km]')\n",
    "ax[1].set(xlabel='Eccentricity', ylabel=r'In track error [km]')\n",
    "ax[2].set(xlabel='Eccentricity', ylabel=r'Radial error [km]')\n",
    "fig.savefig(\"data/crosssurface.png\")"
   ]
  }
 ],
 "metadata": {
  "kernelspec": {
   "display_name": "microsat",
   "language": "python",
   "name": "python3"
  },
  "language_info": {
   "codemirror_mode": {
    "name": "ipython",
    "version": 3
   },
   "file_extension": ".py",
   "mimetype": "text/x-python",
   "name": "python",
   "nbconvert_exporter": "python",
   "pygments_lexer": "ipython3",
   "version": "3.10.8 | packaged by conda-forge | (main, Nov 22 2022, 08:27:35) [Clang 14.0.6 ]"
  },
  "orig_nbformat": 4,
  "vscode": {
   "interpreter": {
    "hash": "170d958b4369a239e6aecbb8389d168dffbe0b3be4f0621327b3bdb58d6c5eba"
   }
  }
 },
 "nbformat": 4,
 "nbformat_minor": 2
}
