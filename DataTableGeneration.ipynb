{
 "cells": [
  {
   "cell_type": "code",
   "execution_count": 75,
   "metadata": {},
   "outputs": [
    {
     "name": "stderr",
     "output_type": "stream",
     "text": [
      "DiscosWeb: 100%|██████████| 5/5 [00:00<00:00, 277.26it/s]\n",
      "Launch: 2013-066: 100%|██████████| 28/28 [00:02<00:00, 10.95it/s]\n"
     ]
    },
    {
     "name": "stdout",
     "output_type": "stream",
     "text": [
      "Skipped NORADid 39435\n",
      "Skipped NORADid 39436\n",
      "Skipped NORADid 39437\n"
     ]
    },
    {
     "name": "stderr",
     "output_type": "stream",
     "text": [
      "Launch: 2018-092: 100%|██████████| 4/4 [00:00<00:00, 19.61it/s]\n"
     ]
    },
    {
     "name": "stdout",
     "output_type": "stream",
     "text": [
      "Skipped NORADid 43704\n",
      "Skipped NORADid 44046\n"
     ]
    },
    {
     "name": "stderr",
     "output_type": "stream",
     "text": [
      "Launch: 2019-084: 100%|██████████| 1/1 [00:00<00:00, 26.30it/s]\n"
     ]
    },
    {
     "name": "stdout",
     "output_type": "stream",
     "text": [
      "Skipped NORADid 44827\n",
      "Skipped NORADid 44828\n",
      "Skipped NORADid 44829\n",
      "Skipped NORADid 44830\n",
      "Skipped NORADid 44831\n",
      "Skipped NORADid 44832\n"
     ]
    },
    {
     "name": "stderr",
     "output_type": "stream",
     "text": [
      "Launch: 2022-002: 100%|██████████| 105/105 [00:01<00:00, 60.45it/s]\n",
      "Launch: 2021-006: 100%|██████████| 143/143 [00:03<00:00, 40.60it/s]\n"
     ]
    },
    {
     "name": "stdout",
     "output_type": "stream",
     "text": [
      "(2013-066, 2018-092, 2019-084, 2022-002, 2021-006)\n",
      "total sats: 281\n"
     ]
    }
   ],
   "source": [
    "from extract.extract import getTLEsFromLaunches, getCredentials\n",
    "from datetime import datetime\n",
    "import matplotlib.pyplot as plt\n",
    "import seaborn as sns\n",
    "import pandas as pd\n",
    "import numpy as np\n",
    "# import sklearn\n",
    "from sklearn.preprocessing import OrdinalEncoder, LabelEncoder, MinMaxScaler, RobustScaler\n",
    "from sklearn.model_selection import train_test_split\n",
    "from sklearn.ensemble import RandomForestRegressor, GradientBoostingRegressor\n",
    "from sklearn.linear_model import ElasticNet\n",
    "from sklearn.svm import SVR\n",
    "from sklearn.metrics import mean_squared_error, mean_absolute_error, r2_score\n",
    "from sklearn.tree import export_graphviz\n",
    "from sklearn.utils import shuffle\n",
    "\n",
    "import xgboost as xgb\n",
    "\n",
    "start = datetime(2016, 1, 1)\n",
    "end = datetime(2023, 1, 1)\n",
    "\n",
    "token = getCredentials(source=\"discos\")\n",
    "username, password = getCredentials(source=\"spacetrack\")\n",
    "\n",
    "launchIDs = [\"2013-066\", \"2018-092\", \"2019-084\", \"2022-002\"]\n",
    "launchIDs = [\"2013-066\", \"2018-092\", \"2019-084\", \"2022-002\", \"2021-006\"]\n",
    "# launchIDs = [\"2013-066\"]\n",
    "# launchIDs = [\"2022-002\"]\n",
    "# launchIDs = [\"2019-084\"]\n",
    "ignoreList = [44827, 44828, 44829, 44830, 44831, 44832] + [39435, 39436, 39437] + [43704, 44046]\n",
    "# combining everything into one DF\n",
    "discosDataDict, dfOriginal = getTLEsFromLaunches(\n",
    "    username,\n",
    "    password,\n",
    "    token,\n",
    "    launchIDs,\n",
    "    start,\n",
    "    end,\n",
    "    combineDiscosAndTLE=True,\n",
    "    collectLaunches=True,\n",
    "    collectAllTLEs=True,\n",
    "    forceRegen=False,\n",
    "    ignoreList=ignoreList\n",
    ")\n",
    "\n",
    "print(\"(\" + \", \".join(launchIDs) + \")\")\n",
    "print(f\"total sats: {len(dfOriginal.name.unique())}\")\n"
   ]
  },
  {
   "cell_type": "code",
   "execution_count": 64,
   "metadata": {},
   "outputs": [
    {
     "name": "stdout",
     "output_type": "stream",
     "text": [
      "original length: 473898\n",
      "reduced length: 466872\n",
      "         Name in Dataset     Unit                  Description  Sample Data\n",
      "depth              depth    [$m$]                        Depth          0.1\n",
      "name                name      [-]               Satellite Name     CINEMA 3\n",
      "xSectAvg        xSectAvg  [$m^2$]         Average Crosssection        0.035\n",
      "shape              shape      [-]            Shape Description  Box + 1 Rod\n",
      "width              width    [$m$]                        Width          0.1\n",
      "xSectMax        xSectMax  [$m^2$]      Max Crosssectional Area     0.043589\n",
      "height            height    [$m$]                       Height          0.3\n",
      "diameter        diameter    [$m$]                     Diameter          NaN\n",
      "xSectMin        xSectMin  [$m^2$]  Minimum Crosssectional Area         0.01\n",
      "mass                mass   [$kg$]                         Mass          4.0\n",
      "span                span    [$m$]           Maximum Span Width          0.5\n",
      "satno              satno      [-]                     NORAD ID        39426\n",
      "None\n"
     ]
    }
   ],
   "source": [
    "# print(dfOriginal.columns)\n",
    "print(f\"original length: {len(dfOriginal)}\")\n",
    "df = dfOriginal.query(\"overallCovariance < 5\")#.query(\"RCS_SIZE == 'SMALL'\")\n",
    "print(f\"reduced length: {len(df)}\")\n",
    "\n",
    "colsToDrop = [\n",
    "       'vimpelId', 'OBJECT_NAME', 'CENTER_NAME',\n",
    "       'MEAN_MOTION', 'RA_OF_ASC_NODE',\n",
    "       'ARG_OF_PERICENTER', 'MEAN_ANOMALY', 'NORAD_CAT_ID', 'ELEMENT_SET_NO',\n",
    "       'REV_AT_EPOCH', 'BSTAR', 'MEAN_MOTION_DOT', 'MEAN_MOTION_DDOT',\n",
    "        'PERIOD', 'COUNTRY_CODE', 'LAUNCH_DATE', 'DECAY_DATE', 'TLE_LINE0', \"OBJECT_TYPE\", \"objectClass\", \n",
    "       'TLE_LINE1', 'TLE_LINE2', 'TLE_LINE1min1', 'TLE_LINE2min1']\n",
    "colsToDrop2 = [\"name\", \"cosparId\", \"shape\", \"diameter\", \"EPOCH\", \"satno\"]\n",
    "colsToDrop3 = [\"ECCENTRICITY\", \"INCLINATION\", \"PERIAPSIS\", \"APOAPSIS\", \"SEMIMAJOR_AXIS\", \"deltat\"]\n",
    "colsToDrop4 = ['height', \"width\", \"depth\", 'xSectAvg']     \n",
    "labels = [\"errorX\", \"errorY\", \"errorZ\", \"errorCross\", \"errorAlong\", \"errorRadial\", \"overallCovariance\", \"overallVelocityCovariance\", \"actualX\", \"actualY\", \"actualZ\"]\n",
    "\n",
    "df = df.drop(colsToDrop, axis=1).drop(colsToDrop3, axis=1)\n",
    "discos = list(discosDataDict.values())[0].drop(['vimpelId', 'cosparId', 'objectClass', 'antennas', 'pannels', 'rods', 'volume'], axis=1)\n",
    "# print(list(discosDataDict.values())[0].columns)\n",
    "sampledata = discos.iloc[10]\n",
    "unit = [\"[$m$]\", \"[-]\", \"[$m^2$]\", \"[-]\", \"[$m$]\", \"[$m^2$]\", \"[$m$]\", \"[$m$]\", \"[$m^2$]\", \"[$kg$]\", \"[$m$]\", \"[-]\"]\n",
    "description = [\"Depth\", \"Satellite Name\", \"Average Crosssection\", \"Shape Description\", \"Width\", \"Max Crosssectional Area\", \"Height\", \"Diameter\", \"Minimum Crosssectional Area\", \"Mass\", \"Maximum Span Width\", \"NORAD ID\"]\n",
    "table = pd.DataFrame({\"Name in Dataset\":discos.columns, \"Unit\":unit, \"Description\":description, \"Sample Data\":sampledata})\n",
    "print(table)\n",
    "ltx = table.style.format(precision=3).hide(axis=\"index\")\n",
    "ltx = ltx.to_latex(buf=\"latex/a.tex\", position=\"H\", hrules=True, clines=\"skip-last;data\", label=\"discosdata\", position_float=\"centering\", caption = \"ADD\")\n",
    "print(ltx)\n",
    "# print(df.groupby(\"shape\").size())\n",
    "\n",
    "# print(df.satname.unique())"
   ]
  },
  {
   "cell_type": "code",
   "execution_count": 65,
   "metadata": {},
   "outputs": [
    {
     "name": "stdout",
     "output_type": "stream",
     "text": [
      "         Name in Dataset     Unit        Description  Sample Data\n",
      "antennas        antennas      [-]  Numer of Antennas        0.000\n",
      "pannels          pannels      [-]   Numer of Pannels        0.000\n",
      "rods                rods      [-]      Numer of Rods        1.000\n",
      "volume            volume  [$m^3$]         Box Volume        0.003\n",
      "None\n"
     ]
    }
   ],
   "source": [
    "discos = list(discosDataDict.values())[0].loc[:, ['antennas', 'pannels', 'rods', 'volume']]\n",
    "# print(list(discosDataDict.values())[0].columns)\n",
    "sampledata = discos.iloc[10]\n",
    "unit = [\"[-]\", \"[-]\", \"[-]\", \"[$m^3$]\"]\n",
    "description = [\"Numer of Antennas\", \"Numer of Pannels\", \"Numer of Rods\", \"Box Volume\"]\n",
    "table = pd.DataFrame({\"Name in Dataset\":discos.columns, \"Unit\":unit, \"Description\":description, \"Sample Data\":sampledata})\n",
    "print(table)\n",
    "ltx = table.style.format(precision=3).hide(axis=\"index\")\n",
    "ltx = ltx.to_latex(buf=\"latex/b.tex\", position=\"H\", hrules=True, clines=\"skip-last;data\", label=\"discosExtras\", position_float=\"centering\", caption = \"ADD\")\n",
    "print(ltx)"
   ]
  },
  {
   "cell_type": "code",
   "execution_count": 66,
   "metadata": {},
   "outputs": [
    {
     "name": "stdout",
     "output_type": "stream",
     "text": [
      "                                     Name in Dataset    Unit  \\\n",
      "errorX                                        errorX  [$km$]   \n",
      "errorY                                        errorY  [$km$]   \n",
      "errorZ                                        errorZ  [$km$]   \n",
      "errorCross                                errorCross  [$km$]   \n",
      "errorAlong                                errorAlong  [$km$]   \n",
      "errorRadial                              errorRadial  [$km$]   \n",
      "overallCovariance                  overallCovariance  [$km$]   \n",
      "overallVelocityCovariance  overallVelocityCovariance  [$km$]   \n",
      "simX                                            simX  [$km$]   \n",
      "simY                                            simY  [$km$]   \n",
      "simZ                                            simZ  [$km$]   \n",
      "actualX                                      actualX  [$km$]   \n",
      "actualY                                      actualY  [$km$]   \n",
      "actualZ                                      actualZ  [$km$]   \n",
      "\n",
      "                                                                 Description  \\\n",
      "errorX                     Carthesian error between SGP4 and next TLE est...   \n",
      "errorY                                                                         \n",
      "errorZ                                                                         \n",
      "errorCross                 Cross Track error between SGP4 and next TLE es...   \n",
      "errorAlong                                                                     \n",
      "errorRadial                                                                    \n",
      "overallCovariance                                        Position Covariance   \n",
      "overallVelocityCovariance                                Velocity Covariance   \n",
      "simX                                      SGP4 position at next TLE Estimate   \n",
      "simY                                                                           \n",
      "simZ                                                                           \n",
      "actualX                                 Actual position at next TLE Estimate   \n",
      "actualY                                                                        \n",
      "actualZ                                                                        \n",
      "\n",
      "                           Sample Data  \n",
      "errorX                        0.003725  \n",
      "errorY                        0.003282  \n",
      "errorZ                        0.006945  \n",
      "errorCross                    0.001684  \n",
      "errorAlong                    0.007236  \n",
      "errorRadial                   0.004205  \n",
      "overallCovariance             0.008537  \n",
      "overallVelocityCovariance     0.000009  \n",
      "simX                       1996.711480  \n",
      "simY                       6739.196442  \n",
      "simZ                         -0.007596  \n",
      "actualX                    1996.715205  \n",
      "actualY                    6739.199725  \n",
      "actualZ                      -0.000651  \n",
      "None\n"
     ]
    }
   ],
   "source": [
    "from extract.measure import generateErrorsLabels\n",
    "tabl = dfOriginal.loc[:, generateErrorsLabels]\n",
    "sampledata = tabl.iloc[10]\n",
    "# print(tabl)\n",
    "# unit = [\"[$m$]\", \"[$m$]\", \"[$m$]\", \"[$m$]\", \"[$m$]\", \"[$m$]\"]\n",
    "unit = 14 * [\"[$km$]\"]\n",
    "description = [\"Carthesian error between SGP4 and next TLE estimate\"] + 2 * [\"\"] +  [\"Cross Track error between SGP4 and next TLE estimate\"] + 2 * [\"\"] + [\"Position Covariance\", \"Velocity Covariance\",\"SGP4 position at next TLE Estimate\",] + 2 * [\"\"] + [\"Actual position at next TLE Estimate\"] + 2 * [\"\"]\n",
    "table = pd.DataFrame({\"Name in Dataset\":tabl.columns, \"Unit\":unit, \"Description\":description, \"Sample Data\":sampledata})\n",
    "print(table)\n",
    "ltx = table.style.format(precision=3).hide(axis=\"index\")\n",
    "ltx = ltx.to_latex(buf=\"latex/c.tex\", position=\"H\", hrules=True, clines=\"skip-last;data\", label=\"errorData\", position_float=\"centering\", caption = \"ADD\")\n",
    "print(ltx)\n",
    "# print(df.groupby(\"shape\").size())\n"
   ]
  },
  {
   "cell_type": "code",
   "execution_count": 74,
   "metadata": {},
   "outputs": [
    {
     "name": "stdout",
     "output_type": "stream",
     "text": [
      "None\n"
     ]
    }
   ],
   "source": [
    "table = pd.DataFrame(dfOriginal.groupby(\"name\").first().groupby(\"shape\").count().simX)\n",
    "table = pd.DataFrame({\"Shape\":table.index, \"Prevalence (\\#sats)\":table.simX, \"Prevalence (\\%)\":table.simX / len(dfOriginal.name.unique()) * 100 })\n",
    "# print(table)\n",
    "# print(table)\n",
    "ltx = table.style.format(precision=1).hide(axis=\"index\")\n",
    "ltx = ltx.to_latex(buf=\"latex/d.tex\", position=\"H\", hrules=True, clines=\"skip-last;data\", label=\"tab:shapeTypes\", position_float=\"centering\", caption = \"ADD\")\n",
    "print(ltx)"
   ]
  },
  {
   "cell_type": "code",
   "execution_count": null,
   "metadata": {},
   "outputs": [],
   "source": []
  }
 ],
 "metadata": {
  "kernelspec": {
   "display_name": "smallobjecttracking",
   "language": "python",
   "name": "python3"
  },
  "language_info": {
   "codemirror_mode": {
    "name": "ipython",
    "version": 3
   },
   "file_extension": ".py",
   "mimetype": "text/x-python",
   "name": "python",
   "nbconvert_exporter": "python",
   "pygments_lexer": "ipython3",
   "version": "3.11.0 | packaged by conda-forge | (main, Oct 25 2022, 06:12:32) [MSC v.1929 64 bit (AMD64)]"
  },
  "orig_nbformat": 4,
  "vscode": {
   "interpreter": {
    "hash": "f1b91689d45e2494ad28cb61d537a495a731564a754a734a9f4b6b84e9e8e95b"
   }
  }
 },
 "nbformat": 4,
 "nbformat_minor": 2
}
