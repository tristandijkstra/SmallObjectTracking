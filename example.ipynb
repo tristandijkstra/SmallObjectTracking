{
 "cells": [
  {
   "cell_type": "code",
   "execution_count": null,
   "metadata": {},
   "outputs": [],
   "source": [
    "from extract.extract import getTLEsFromLaunches, getCredentials\n",
    "from datetime import datetime\n",
    "import seaborn as sns\n",
    "from scipy.stats import iqr\n",
    "sns.set_theme()\n",
    "sns.color_palette(\"Spectral\", as_cmap=True)\n",
    "\n",
    "start = datetime(2022, 1, 1)\n",
    "end = datetime(2023, 1, 1)\n",
    "\n",
    "token = getCredentials(source=\"discos\")\n",
    "username, password = getCredentials(source=\"spacetrack\")\n",
    "\n",
    "launchIDs = [\"2013-066\", \"2018-092\", \"2019-084\", \"2022-002\"]\n",
    "launchIDs = [\"2013-066\"]\n",
    "# launchIDs = [\"2022-002\"]\n",
    "# launchIDs = [\"2019-084\"]\n",
    "\n",
    "# combining everything into one DF\n",
    "discosDataDict, dfOriginal = getTLEsFromLaunches(\n",
    "    username,\n",
    "    password,\n",
    "    token,\n",
    "    launchIDs,\n",
    "    start,\n",
    "    end,\n",
    "    combineDiscosAndTLE=True,\n",
    "    collectLaunches=True,\n",
    "    collectAllTLEs=True,\n",
    "    forceRegen=False,\n",
    ")\n"
   ]
  },
  {
   "cell_type": "code",
   "execution_count": null,
   "metadata": {},
   "outputs": [],
   "source": [
    "print(dfOriginal.columns)\n",
    "df = dfOriginal.query(\"overallCovariance < 5\").query(\"deltat< 10000\")\n",
    "\n",
    "colsToDrop = [\n",
    "       'vimpelId', 'OBJECT_NAME', 'CENTER_NAME',\n",
    "       'MEAN_MOTION', 'ECCENTRICITY', 'INCLINATION', 'RA_OF_ASC_NODE',\n",
    "       'ARG_OF_PERICENTER', 'MEAN_ANOMALY', 'NORAD_CAT_ID', 'ELEMENT_SET_NO',\n",
    "       'REV_AT_EPOCH', 'BSTAR', 'MEAN_MOTION_DOT', 'MEAN_MOTION_DDOT',\n",
    "       'SEMIMAJOR_AXIS', 'PERIOD', 'APOAPSIS', 'PERIAPSIS', 'OBJECT_TYPE',\n",
    "       'RCS_SIZE', 'COUNTRY_CODE', 'LAUNCH_DATE', 'DECAY_DATE', 'TLE_LINE0',\n",
    "       'TLE_LINE1', 'TLE_LINE2', 'TLE_LINE1min1', 'TLE_LINE2min1']\n",
    "\n",
    "df = df.drop(colsToDrop, axis=1)\n",
    "print(df.columns)"
   ]
  },
  {
   "cell_type": "code",
   "execution_count": null,
   "metadata": {},
   "outputs": [],
   "source": [
    "sns.boxenplot(x = df.overallCovariance, y = df.name)"
   ]
  },
  {
   "cell_type": "code",
   "execution_count": null,
   "metadata": {},
   "outputs": [],
   "source": [
    "corr = df.corr(numeric_only=True)\n",
    "sns.heatmap(corr, center=0, cmap=\"vlag\")"
   ]
  },
  {
   "cell_type": "code",
   "execution_count": null,
   "metadata": {},
   "outputs": [],
   "source": [
    "sns.kdeplot(\n",
    "   data=df, x=df.overallCovariance, hue=\"name\",\n",
    "   fill=True, common_norm=False, palette=\"crest\",\n",
    "   alpha=.5, linewidth=0,\n",
    ")"
   ]
  },
  {
   "cell_type": "code",
   "execution_count": null,
   "metadata": {},
   "outputs": [],
   "source": [
    "sns.scatterplot(x=df.EPOCH, y=df.overallCovariance, hue=df.name)\n",
    "sns.rugplot(x=df.EPOCH, y=df.overallCovariance, height=.1, hue=df.name)"
   ]
  },
  {
   "cell_type": "code",
   "execution_count": null,
   "metadata": {},
   "outputs": [],
   "source": [
    "sns.scatterplot(x=df.deltat, y=df.overallCovariance, hue=df.name, legend=None)\n",
    "sns.rugplot(x=df.deltat, y=df.overallCovariance, height=.1, hue=df.name, legend=None)"
   ]
  },
  {
   "cell_type": "code",
   "execution_count": null,
   "metadata": {},
   "outputs": [],
   "source": [
    "plot = sns.displot(x=(df.deltat), y=df.overallCovariance, kind=\"kde\")\n"
   ]
  },
  {
   "cell_type": "code",
   "execution_count": null,
   "metadata": {},
   "outputs": [],
   "source": [
    "plot = sns.boxenplot(y=df.name, x=(df.deltat))"
   ]
  },
  {
   "cell_type": "code",
   "execution_count": null,
   "metadata": {},
   "outputs": [],
   "source": [
    "sns.scatterplot(x=df.errorRadial, y=df.errorCross, legend=None)\n",
    "# sns.displot(x=df.errorRadial, y=df.errorCross, legend=None, kind=\"kde\")"
   ]
  },
  {
   "cell_type": "code",
   "execution_count": null,
   "metadata": {},
   "outputs": [],
   "source": [
    "plot = sns.displot(x=df.overallCovariance, y=df.errorAlong, kind=\"kde\")"
   ]
  }
 ],
 "metadata": {
  "kernelspec": {
   "display_name": "hi",
   "language": "python",
   "name": "python3"
  },
  "language_info": {
   "codemirror_mode": {
    "name": "ipython",
    "version": 3
   },
   "file_extension": ".py",
   "mimetype": "text/x-python",
   "name": "python",
   "nbconvert_exporter": "python",
   "pygments_lexer": "ipython3",
   "version": "3.11.0 | packaged by conda-forge | (main, Oct 25 2022, 06:12:32) [MSC v.1929 64 bit (AMD64)]"
  },
  "orig_nbformat": 4,
  "vscode": {
   "interpreter": {
    "hash": "ef6d563a046c0cffbd4962a2a58f03583d133950de4ed7bb37eafc96154c70fa"
   }
  }
 },
 "nbformat": 4,
 "nbformat_minor": 2
}
